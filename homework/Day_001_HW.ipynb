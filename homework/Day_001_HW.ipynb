{
 "cells": [
  {
   "cell_type": "markdown",
   "metadata": {},
   "source": [
    "# 作業一\n",
    "\n",
    "### Data：Kaggle Suicide Rates Overview 1985 to 2016\n",
    "\n",
    "### 1. 你選的這組資料為何重要?\n",
    "透過資料分析，找出自殺率提高的因子，進而建立預測模型，有助於政府或民間團體預防宣導。\n",
    "\n",
    "### 2. 資料從何而來?\n",
    "搜尋以下網站的資料，抓取所需要的變數因子，整理成程式能讀取的csv檔\n",
    "\n",
    "a. United Nations Development Program. (2018). Human development index (HDI). \n",
    "\n",
    "Retrieved from http://hdr.undp.org/en/indicators/137506\n",
    "\n",
    "b. World Bank. (2018). World development indicators: GDP (current US dollars) by country:1985 to 2016. \n",
    "\n",
    "Retrieved from http://databank.worldbank.org/data/source/world-development-indicators#\n",
    "\n",
    "c. World Health Organization. (2018). Suicide prevention. \n",
    "\n",
    "Retrieved from http://www.who.int/mental_health/suicide-prevention/en/\n",
    "\n",
    "### 3. 蒐集而來的資料型態為何?\n",
    "來源所提供的資料型態皆為結構化資料，故只需將欄位時間地點對齊，即可運用ML技術。\n",
    "\n",
    "### 4. 這組資料想解決的問題如何評估?\n",
    "以回歸方式+training data建立預測模型，再以testing data預測結果，最後利用MSE評估模型好壞。"
   ]
  },
  {
   "cell_type": "code",
   "execution_count": null,
   "metadata": {},
   "outputs": [],
   "source": []
  },
  {
   "attachments": {},
   "cell_type": "markdown",
   "metadata": {},
   "source": [
    "# 作業二\n",
    "想像你經營一個自由載客車隊，你希望能透過數據分析以提升業績，請你思考並描述你如何規劃整體的分析/解決方案：\n",
    "\n",
    "### 1. 核心問題為何?\n",
    "在已有搭乘經驗的顧客中，且顧客皆以app叫車（假設），提升他們的再次叫車率（目標）。\n",
    "### 2. 資料從何而來?\n",
    "a. 顧客資料 -> app會員註冊資料\n",
    "\n",
    "b. 一周搭乘次數 -> 交易成功紀錄\n",
    "\n",
    "c. 費用、里程數 -> 跳錶紀錄\n",
    "\n",
    "d. 顧客搭乘目的 -> 透過有獎徵答的問卷或司機觀察蒐集\n",
    "### 3. 蒐集而來的資料型態為何?\n",
    "顧客資料、一周搭乘次數、費用及里程數回傳給app後台應為結構化的表格資料，要特別注意的是顧客搭乘目的，一般問卷調查或司機觀察，紀錄顧客意見通常是敘述性的一段文字，屬於非結構化資料，此時就需經人工轉成電子檔，再設計一個程式，讓電腦自動判讀分類，以利後續分析。\n",
    "### 4. 你要回答的問題，其如何評估?\n",
    "透過上述蒐集的資料，建立RFM model分類客群，即可針對不同客群制定不同的行銷策略，藉以提升整體業績。"
   ]
  },
  {
   "cell_type": "code",
   "execution_count": null,
   "metadata": {},
   "outputs": [],
   "source": []
  },
  {
   "cell_type": "markdown",
   "metadata": {},
   "source": [
    "# 作業三\n",
    "#### 請寫一個函式用來計算 Mean Square Error\n",
    "$ MSE = \\frac{1}{n}\\sum_{i=1}^{n}{(Y_i - \\hat{Y}_i)^2} $"
   ]
  },
  {
   "cell_type": "code",
   "execution_count": 79,
   "metadata": {},
   "outputs": [],
   "source": [
    "import numpy as np\n",
    "import matplotlib.pyplot as plt"
   ]
  },
  {
   "cell_type": "code",
   "execution_count": 80,
   "metadata": {},
   "outputs": [],
   "source": [
    "def mean_absolute_error(y, yp):\n",
    "    \"\"\"\n",
    "    計算 MAE\n",
    "    Args:\n",
    "        - y: 實際值\n",
    "        - yp: 預測值\n",
    "    Return:\n",
    "        - mae: MAE\n",
    "    \"\"\"\n",
    "    mae = MAE = sum(abs(y - yp)) / len(y)\n",
    "    return mae\n",
    "\n",
    "def mean_squared_error(y,yp) :\n",
    "    \"\"\"\n",
    "    計算MSE\n",
    "    Args:\n",
    "    \t-y:實際值\n",
    "        -yp:預測值\n",
    "    Return:\n",
    "    \t-mse\n",
    "    \"\"\"\n",
    "    y = np.array(y)\n",
    "    yp = np.array(yp)\n",
    "    mse = MSE = np.mean(np.power((y - yp),2))\n",
    "    return mse"
   ]
  },
  {
   "cell_type": "code",
   "execution_count": 81,
   "metadata": {},
   "outputs": [
    {
     "data": {
      "image/png": "[encoded data removed]",
      "text/plain": [
       "<Figure size 432x288 with 1 Axes>"
      ]
     },
     "metadata": {
      "needs_background": "light"
     },
     "output_type": "display_data"
    }
   ],
   "source": [
    "w = 3\n",
    "b = 0.5\n",
    "\n",
    "x_lin = np.linspace(0, 100, 101)\n",
    "\n",
    "y = (x_lin + np.random.randn(101) * 5) * w + b\n",
    "\n",
    "plt.plot(x_lin, y, 'b.', label = 'data points')\n",
    "plt.title(\"Assume we have data points\")\n",
    "plt.legend(loc = 2)\n",
    "plt.show()"
   ]
  },
  {
   "cell_type": "code",
   "execution_count": 82,
   "metadata": {},
   "outputs": [
    {
     "data": {
      "image/png": "[encoded data removed]",
      "text/plain": [
       "<Figure size 432x288 with 1 Axes>"
      ]
     },
     "metadata": {
      "needs_background": "light"
     },
     "output_type": "display_data"
    }
   ],
   "source": [
    "y_hat = x_lin * w + b\n",
    "plt.plot(x_lin, y, 'b.', label = 'data')\n",
    "plt.plot(x_lin, y_hat, 'r-', label = 'prediction')\n",
    "plt.title(\"Assume we have data points (And the prediction)\")\n",
    "plt.legend(loc = 2)\n",
    "plt.show()"
   ]
  },
  {
   "cell_type": "code",
   "execution_count": 83,
   "metadata": {},
   "outputs": [
    {
     "name": "stdout",
     "output_type": "stream",
     "text": [
      "The Mean squared error is 210.907\n",
      "The Mean absolute error is 11.750\n"
     ]
    }
   ],
   "source": [
    "# 執行 Function, 確認有沒有正常執行\n",
    "MSE = mean_squared_error(y,y_hat)\n",
    "MAE = mean_absolute_error(y, y_hat)\n",
    "print(\"The Mean squared error is %.3f\" % (MSE))\n",
    "print(\"The Mean absolute error is %.3f\" % (MAE))"
   ]
  },
  {
   "cell_type": "code",
   "execution_count": null,
   "metadata": {},
   "outputs": [],
   "source": []
  },
  {
   "cell_type": "code",
   "execution_count": null,
   "metadata": {},
   "outputs": [],
   "source": []
  }
 ],
 "metadata": {
  "kernelspec": {
   "display_name": "Python 3",
   "language": "python",
   "name": "python3"
  },
  "language_info": {
   "codemirror_mode": {
    "name": "ipython",
    "version": 3
   },
   "file_extension": ".py",
   "mimetype": "text/x-python",
   "name": "python",
   "nbconvert_exporter": "python",
   "pygments_lexer": "ipython3",
   "version": "3.7.0"
  }
 },
 "nbformat": 4,
 "nbformat_minor": 2
}
